{
 "cells": [
  {
   "cell_type": "code",
   "execution_count": 1,
   "id": "3cce784f",
   "metadata": {},
   "outputs": [],
   "source": [
    "import numpy as np\n",
    "import pandas as pd\n",
    "\n",
    "import matplotlib.pyplot as plt"
   ]
  },
  {
   "cell_type": "markdown",
   "id": "70eef5cd",
   "metadata": {},
   "source": [
    "读取表格数据"
   ]
  },
  {
   "cell_type": "code",
   "execution_count": 2,
   "id": "db5c111e",
   "metadata": {},
   "outputs": [],
   "source": [
    "fd=pd.read_excel(r'D:/ThirdTerm/BigDataAnlaysis/WhiteHorse/不同施肥处理对稻田温室气体减排效果分析/analysisofdealtogrow.xlsx')"
   ]
  },
  {
   "cell_type": "code",
   "execution_count": 3,
   "id": "082b2d6b",
   "metadata": {},
   "outputs": [
    {
     "data": {
      "text/html": [
       "<div>\n",
       "<style scoped>\n",
       "    .dataframe tbody tr th:only-of-type {\n",
       "        vertical-align: middle;\n",
       "    }\n",
       "\n",
       "    .dataframe tbody tr th {\n",
       "        vertical-align: top;\n",
       "    }\n",
       "\n",
       "    .dataframe thead th {\n",
       "        text-align: right;\n",
       "    }\n",
       "</style>\n",
       "<table border=\"1\" class=\"dataframe\">\n",
       "  <thead>\n",
       "    <tr style=\"text-align: right;\">\n",
       "      <th></th>\n",
       "      <th>YEAR</th>\n",
       "      <th>DATE</th>\n",
       "      <th>SEASON</th>\n",
       "      <th>TRT</th>\n",
       "      <th>CO2</th>\n",
       "      <th>Unnamed: 5</th>\n",
       "      <th>Unnamed: 6</th>\n",
       "    </tr>\n",
       "  </thead>\n",
       "  <tbody>\n",
       "    <tr>\n",
       "      <th>0</th>\n",
       "      <td>2008</td>\n",
       "      <td>39541</td>\n",
       "      <td>S08E</td>\n",
       "      <td>CK</td>\n",
       "      <td>0.562162</td>\n",
       "      <td>NaN</td>\n",
       "      <td>NaN</td>\n",
       "    </tr>\n",
       "    <tr>\n",
       "      <th>1</th>\n",
       "      <td>2008</td>\n",
       "      <td>39541</td>\n",
       "      <td>S08E</td>\n",
       "      <td>CK</td>\n",
       "      <td>0.880880</td>\n",
       "      <td>NaN</td>\n",
       "      <td>NaN</td>\n",
       "    </tr>\n",
       "    <tr>\n",
       "      <th>2</th>\n",
       "      <td>2008</td>\n",
       "      <td>39541</td>\n",
       "      <td>S08E</td>\n",
       "      <td>CK</td>\n",
       "      <td>0.178260</td>\n",
       "      <td>NaN</td>\n",
       "      <td>NaN</td>\n",
       "    </tr>\n",
       "    <tr>\n",
       "      <th>3</th>\n",
       "      <td>2008</td>\n",
       "      <td>39541</td>\n",
       "      <td>S08E</td>\n",
       "      <td>F1</td>\n",
       "      <td>0.129323</td>\n",
       "      <td>NaN</td>\n",
       "      <td>NaN</td>\n",
       "    </tr>\n",
       "    <tr>\n",
       "      <th>4</th>\n",
       "      <td>2008</td>\n",
       "      <td>39541</td>\n",
       "      <td>S08E</td>\n",
       "      <td>F1</td>\n",
       "      <td>0.203667</td>\n",
       "      <td>NaN</td>\n",
       "      <td>NaN</td>\n",
       "    </tr>\n",
       "    <tr>\n",
       "      <th>...</th>\n",
       "      <td>...</td>\n",
       "      <td>...</td>\n",
       "      <td>...</td>\n",
       "      <td>...</td>\n",
       "      <td>...</td>\n",
       "      <td>...</td>\n",
       "      <td>...</td>\n",
       "    </tr>\n",
       "    <tr>\n",
       "      <th>5197</th>\n",
       "      <td>2011</td>\n",
       "      <td>40857</td>\n",
       "      <td>S11L</td>\n",
       "      <td>F4</td>\n",
       "      <td>0.103489</td>\n",
       "      <td>NaN</td>\n",
       "      <td>NaN</td>\n",
       "    </tr>\n",
       "    <tr>\n",
       "      <th>5198</th>\n",
       "      <td>2011</td>\n",
       "      <td>40857</td>\n",
       "      <td>S11L</td>\n",
       "      <td>F4</td>\n",
       "      <td>-0.025006</td>\n",
       "      <td>NaN</td>\n",
       "      <td>NaN</td>\n",
       "    </tr>\n",
       "    <tr>\n",
       "      <th>5199</th>\n",
       "      <td>2011</td>\n",
       "      <td>40857</td>\n",
       "      <td>S11L</td>\n",
       "      <td>F6</td>\n",
       "      <td>0.062222</td>\n",
       "      <td>NaN</td>\n",
       "      <td>NaN</td>\n",
       "    </tr>\n",
       "    <tr>\n",
       "      <th>5200</th>\n",
       "      <td>2011</td>\n",
       "      <td>40857</td>\n",
       "      <td>S11L</td>\n",
       "      <td>F6</td>\n",
       "      <td>-0.031663</td>\n",
       "      <td>NaN</td>\n",
       "      <td>NaN</td>\n",
       "    </tr>\n",
       "    <tr>\n",
       "      <th>5201</th>\n",
       "      <td>2011</td>\n",
       "      <td>40857</td>\n",
       "      <td>S11L</td>\n",
       "      <td>F6</td>\n",
       "      <td>0.069529</td>\n",
       "      <td>NaN</td>\n",
       "      <td>NaN</td>\n",
       "    </tr>\n",
       "  </tbody>\n",
       "</table>\n",
       "<p>5202 rows × 7 columns</p>\n",
       "</div>"
      ],
      "text/plain": [
       "      YEAR   DATE SEASON TRT       CO2  Unnamed: 5  Unnamed: 6\n",
       "0     2008  39541   S08E  CK  0.562162         NaN         NaN\n",
       "1     2008  39541   S08E  CK  0.880880         NaN         NaN\n",
       "2     2008  39541   S08E  CK  0.178260         NaN         NaN\n",
       "3     2008  39541   S08E  F1  0.129323         NaN         NaN\n",
       "4     2008  39541   S08E  F1  0.203667         NaN         NaN\n",
       "...    ...    ...    ...  ..       ...         ...         ...\n",
       "5197  2011  40857   S11L  F4  0.103489         NaN         NaN\n",
       "5198  2011  40857   S11L  F4 -0.025006         NaN         NaN\n",
       "5199  2011  40857   S11L  F6  0.062222         NaN         NaN\n",
       "5200  2011  40857   S11L  F6 -0.031663         NaN         NaN\n",
       "5201  2011  40857   S11L  F6  0.069529         NaN         NaN\n",
       "\n",
       "[5202 rows x 7 columns]"
      ]
     },
     "execution_count": 3,
     "metadata": {},
     "output_type": "execute_result"
    }
   ],
   "source": [
    "fd1=pd.DataFrame(fd)\n",
    "fd1\n"
   ]
  },
  {
   "cell_type": "markdown",
   "id": "1de8ff28",
   "metadata": {},
   "source": [
    "试题1：\n",
    "试计算各年度(YEAR)、各季节(SEASON)、各处理（TRT）CO2排放通量中值和范围，并绘制箱式图（boxplot）。\n"
   ]
  },
  {
   "cell_type": "markdown",
   "id": "699ba975",
   "metadata": {},
   "source": [
    "各个年度（YEAR）CO2排放量中值和范围"
   ]
  },
  {
   "cell_type": "code",
   "execution_count": 4,
   "id": "1fc487b2",
   "metadata": {},
   "outputs": [
    {
     "name": "stdout",
     "output_type": "stream",
     "text": [
      "2008年的CO2的取值范围是:[-12.865758866157737,169.99218271943278],中值是：2.6552546354493094\n",
      "2009年的CO2的取值范围是:[-10.12157071439997,73.1233],中值是：1.3050866428132317\n",
      "2010年的CO2的取值范围是:[-34.79117076727127,87.61291414988081],中值是：0.583204691198596\n",
      "2011年的CO2的取值范围是:[-4.668498780239632,75.27970124927216],中值是：1.1043459215753342\n"
     ]
    }
   ],
   "source": [
    "year2008=[]\n",
    "year2009=[]\n",
    "year2010=[]\n",
    "year2011=[]\n",
    "for i in range(5202):\n",
    "    if fd1.iloc[i,0] == 2008:\n",
    "        year2008.append(fd1.iloc[i,4])  \n",
    "    elif fd1.iloc[i,0]==2009:\n",
    "        year2009.append(fd1.iloc[i,4])\n",
    "    elif fd1.iloc[i,0]==2010:\n",
    "        year2010.append(fd1.iloc[i,4])\n",
    "    elif fd1.iloc[i,0]==2011:\n",
    "        year2011.append(fd1.iloc[i,4])\n",
    "year2008.sort()\n",
    "year2009.sort()\n",
    "year2010.sort()\n",
    "year2011.sort()\n",
    "#print(year2008,len(year2008))\n",
    "if len(year2008)%2==0:\n",
    "    mid2008=int(len(year2008)/2)\n",
    "    mid2008_=int(len(year2008)/2)-1\n",
    "    year2008mid=(year2008[mid2008]+year2008[mid2008_])/2\n",
    "else:\n",
    "        year2008mid=year2008[int(len(year2008)/2)]\n",
    "print(\"2008年的CO2的取值范围是:[{},{}],中值是：{}\".format(year2008[0],year2008[-1],year2008mid))\n",
    "\n",
    "if len(year2009)%2==0:\n",
    "    mid2009=int(len(year2009)/2)\n",
    "    mid2009_=int(len(year2009)/2)-1\n",
    "    year2009mid=(year2009[mid2009]+year2009[mid2009_])/2\n",
    "else:\n",
    "        year2009mid=year2009[int(len(year2009)/2)]\n",
    "print(\"2009年的CO2的取值范围是:[{},{}],中值是：{}\".format(year2009[0],year2009[-1],year2009mid))\n",
    "\n",
    "if len(year2010)%2==0:\n",
    "    mid2010=int(len(year2010)/2)\n",
    "    mid2010_=int(len(year2010)/2)-1\n",
    "    year2010mid=(year2010[mid2010]+year2010[mid2010_])/2\n",
    "else:\n",
    "        year2010mid=year2010[int(len(year2010)/2)]\n",
    "print(\"2010年的CO2的取值范围是:[{},{}],中值是：{}\".format(year2010[0],year2010[-1],year2010mid))\n",
    "\n",
    "if len(year2011)%2==0:\n",
    "    mid2011=int(len(year2011)/2)\n",
    "    mid2011_=int(len(year2011)/2)-1\n",
    "    year2011mid=(year2011[mid2011]+year2011[mid2011_])/2\n",
    "else:\n",
    "        year2011mid=year2011[int(len(year2011)/2)]\n",
    "print(\"2011年的CO2的取值范围是:[{},{}],中值是：{}\".format(year2011[0],year2011[-1],year2011mid))\n",
    "\n",
    "\n",
    "\n",
    "\n",
    "\n",
    "\n"
   ]
  },
  {
   "cell_type": "markdown",
   "id": "a0990aab",
   "metadata": {},
   "source": [
    "2008年份箱线图\n",
    "2008年的CO2的取值范围是:[-12.865758866157737,169.99218271943278],中值是：2.65525463544930\n",
    "\n"
   ]
  },
  {
   "cell_type": "code",
   "execution_count": 5,
   "id": "6b6f2d91",
   "metadata": {},
   "outputs": [
    {
     "data": {
      "image/png": "[encoded data removed]",
      "text/plain": [
       "<Figure size 432x288 with 1 Axes>"
      ]
     },
     "metadata": {},
     "output_type": "display_data"
    }
   ],
   "source": [
    "# 设置图形的显示风格\n",
    "plt.style.use('ggplot')\n",
    "# 设置中文和负号正常显示\n",
    "plt.rcParams['font.sans-serif'] = 'Microsoft YaHei'\n",
    "plt.rcParams['axes.unicode_minus'] = False \n",
    "# 绘图：2008年排放的CO2量箱线图\n",
    "plt.boxplot(x = year2008, # 指定绘图数据\n",
    " \n",
    "            patch_artist=True, # 要求用自定义颜色填充盒形图，默认白色填充\n",
    " \n",
    "            showmeans=True, # 以点的形式显示均值\n",
    " \n",
    "            boxprops = {'color':'black','facecolor':'#9999ff'}, # 设置箱体属性，填充色和边框色\n",
    " \n",
    "            flierprops = {'marker':'o','markerfacecolor':'red','color':'black'}, # 设置异常值属性，点的形状、填充色和边框色\n",
    " \n",
    "            meanprops = {'marker':'D','markerfacecolor':'indianred'}, # 设置均值点的属性，点的形状、填充色\n",
    " \n",
    "            medianprops = {'linestyle':'--','color':'orange'}) # 设置中位数线的属性，线的类型和颜色\n",
    " \n",
    "# 设置y轴的范围\n",
    " \n",
    "plt.ylim(-13,170)\n",
    " \n",
    " \n",
    " \n",
    "# 去除箱线图的上边框与右边框的刻度标签\n",
    " \n",
    "plt.tick_params(top='off', right='off')\n",
    " \n",
    "# 显示图形\n",
    " \n",
    "plt.show()"
   ]
  },
  {
   "cell_type": "markdown",
   "id": "ea1634f3",
   "metadata": {},
   "source": [
    "2009年排放CO2的箱线图\n",
    "2009年的CO2的取值范围是:[-10.12157071439997,73.1233],中值是：1.3050866428132317\n",
    "\n",
    "\n"
   ]
  },
  {
   "cell_type": "code",
   "execution_count": 6,
   "id": "9684babd",
   "metadata": {},
   "outputs": [
    {
     "data": {
      "image/png": "[encoded data removed]",
      "text/plain": [
       "<Figure size 432x288 with 1 Axes>"
      ]
     },
     "metadata": {},
     "output_type": "display_data"
    }
   ],
   "source": [
    "# 设置图形的显示风格\n",
    "plt.style.use('ggplot')\n",
    "# 设置中文和负号正常显示\n",
    "plt.rcParams['font.sans-serif'] = 'Microsoft YaHei'\n",
    "plt.rcParams['axes.unicode_minus'] = False \n",
    "# 绘图：2009年排放的CO2量箱线图\n",
    "plt.boxplot(x = year2009, # 指定绘图数据\n",
    " \n",
    "            patch_artist=True, # 要求用自定义颜色填充盒形图，默认白色填充\n",
    " \n",
    "            showmeans=True, # 以点的形式显示均值\n",
    " \n",
    "            boxprops = {'color':'black','facecolor':'#9999ff'}, # 设置箱体属性，填充色和边框色\n",
    " \n",
    "            flierprops = {'marker':'o','markerfacecolor':'red','color':'black'}, # 设置异常值属性，点的形状、填充色和边框色\n",
    " \n",
    "            meanprops = {'marker':'D','markerfacecolor':'indianred'}, # 设置均值点的属性，点的形状、填充色\n",
    " \n",
    "            medianprops = {'linestyle':'--','color':'orange'}) # 设置中位数线的属性，线的类型和颜色\n",
    " \n",
    "# 设置y轴的范围\n",
    " \n",
    "plt.ylim(-11,80)\n",
    " \n",
    " \n",
    " \n",
    "# 去除箱线图的上边框与右边框的刻度标签\n",
    " \n",
    "plt.tick_params(top='off', right='off')\n",
    " \n",
    "# 显示图形\n",
    " \n",
    "plt.show()"
   ]
  },
  {
   "cell_type": "markdown",
   "id": "4e4db840",
   "metadata": {},
   "source": [
    "2010年排放CO2的箱线图\n",
    "2010年的CO2的取值范围是:[-34.79117076727127,87.61291414988081],中值是：0.583204691198596\n",
    "\n"
   ]
  },
  {
   "cell_type": "code",
   "execution_count": 7,
   "id": "719642c3",
   "metadata": {},
   "outputs": [
    {
     "data": {
      "image/png": "[encoded data removed]",
      "text/plain": [
       "<Figure size 432x288 with 1 Axes>"
      ]
     },
     "metadata": {},
     "output_type": "display_data"
    }
   ],
   "source": [
    "# 设置图形的显示风格\n",
    "plt.style.use('ggplot')\n",
    "# 设置中文和负号正常显示\n",
    "plt.rcParams['font.sans-serif'] = 'Microsoft YaHei'\n",
    "plt.rcParams['axes.unicode_minus'] = False \n",
    "# 绘图：2010年排放的CO2量箱线图\n",
    "plt.boxplot(x = year2010, # 指定绘图数据\n",
    " \n",
    "            patch_artist=True, # 要求用自定义颜色填充盒形图，默认白色填充\n",
    " \n",
    "            showmeans=True, # 以点的形式显示均值\n",
    " \n",
    "            boxprops = {'color':'black','facecolor':'#9999ff'}, # 设置箱体属性，填充色和边框色\n",
    " \n",
    "            flierprops = {'marker':'o','markerfacecolor':'red','color':'black'}, # 设置异常值属性，点的形状、填充色和边框色\n",
    " \n",
    "            meanprops = {'marker':'D','markerfacecolor':'indianred'}, # 设置均值点的属性，点的形状、填充色\n",
    " \n",
    "            medianprops = {'linestyle':'--','color':'orange'}) # 设置中位数线的属性，线的类型和颜色\n",
    " \n",
    "# 设置y轴的范围\n",
    " \n",
    "plt.ylim(-40,90)\n",
    " \n",
    " \n",
    " \n",
    "# 去除箱线图的上边框与右边框的刻度标签\n",
    " \n",
    "plt.tick_params(top='off', right='off')\n",
    " \n",
    "# 显示图形\n",
    " \n",
    "plt.show()"
   ]
  },
  {
   "cell_type": "markdown",
   "id": "b6ebe2fa",
   "metadata": {},
   "source": [
    "2011年排放CO2的箱线图\n",
    "\n",
    "2011年的CO2的取值范围是:[-4.668498780239632,75.27970124927216],中值是：1.1043459215753342\n",
    "\n"
   ]
  },
  {
   "cell_type": "code",
   "execution_count": 8,
   "id": "047d5ab2",
   "metadata": {},
   "outputs": [
    {
     "data": {
      "image/png": "[encoded data removed]",
      "text/plain": [
       "<Figure size 432x288 with 1 Axes>"
      ]
     },
     "metadata": {},
     "output_type": "display_data"
    }
   ],
   "source": [
    "# 设置图形的显示风格\n",
    "plt.style.use('ggplot')\n",
    "# 设置中文和负号正常显示\n",
    "plt.rcParams['font.sans-serif'] = 'Microsoft YaHei'\n",
    "plt.rcParams['axes.unicode_minus'] = False \n",
    "# 绘图：2011年排放的CO2量箱线图\n",
    "plt.boxplot(x = year2011, # 指定绘图数据\n",
    " \n",
    "            patch_artist=True, # 要求用自定义颜色填充盒形图，默认白色填充\n",
    " \n",
    "            showmeans=True, # 以点的形式显示均值\n",
    " \n",
    "            boxprops = {'color':'black','facecolor':'#9999ff'}, # 设置箱体属性，填充色和边框色\n",
    " \n",
    "            flierprops = {'marker':'o','markerfacecolor':'red','color':'black'}, # 设置异常值属性，点的形状、填充色和边框色\n",
    " \n",
    "            meanprops = {'marker':'D','markerfacecolor':'indianred'}, # 设置均值点的属性，点的形状、填充色\n",
    " \n",
    "            medianprops = {'linestyle':'--','color':'orange'}) # 设置中位数线的属性，线的类型和颜色\n",
    " \n",
    "# 设置y轴的范围\n",
    " \n",
    "plt.ylim(-5,80)\n",
    " \n",
    " \n",
    " \n",
    "# 去除箱线图的上边框与右边框的刻度标签\n",
    " \n",
    "plt.tick_params(top='off', right='off')\n",
    " \n",
    "# 显示图形\n",
    " \n",
    "plt.show()"
   ]
  },
  {
   "cell_type": "markdown",
   "id": "79189a3d",
   "metadata": {},
   "source": [
    "各季节(SEASON)）CO2排放通量中值和范围"
   ]
  },
  {
   "cell_type": "code",
   "execution_count": 9,
   "id": "f727bc10",
   "metadata": {},
   "outputs": [
    {
     "data": {
      "text/html": [
       "<div>\n",
       "<style scoped>\n",
       "    .dataframe tbody tr th:only-of-type {\n",
       "        vertical-align: middle;\n",
       "    }\n",
       "\n",
       "    .dataframe tbody tr th {\n",
       "        vertical-align: top;\n",
       "    }\n",
       "\n",
       "    .dataframe thead th {\n",
       "        text-align: right;\n",
       "    }\n",
       "</style>\n",
       "<table border=\"1\" class=\"dataframe\">\n",
       "  <thead>\n",
       "    <tr style=\"text-align: right;\">\n",
       "      <th></th>\n",
       "      <th>YEAR</th>\n",
       "      <th>DATE</th>\n",
       "      <th>SEASON</th>\n",
       "      <th>TRT</th>\n",
       "      <th>CO2</th>\n",
       "      <th>Unnamed: 5</th>\n",
       "      <th>Unnamed: 6</th>\n",
       "    </tr>\n",
       "  </thead>\n",
       "  <tbody>\n",
       "    <tr>\n",
       "      <th>0</th>\n",
       "      <td>2008</td>\n",
       "      <td>39541</td>\n",
       "      <td>S08E</td>\n",
       "      <td>CK</td>\n",
       "      <td>0.562162</td>\n",
       "      <td>NaN</td>\n",
       "      <td>NaN</td>\n",
       "    </tr>\n",
       "    <tr>\n",
       "      <th>1</th>\n",
       "      <td>2008</td>\n",
       "      <td>39541</td>\n",
       "      <td>S08E</td>\n",
       "      <td>CK</td>\n",
       "      <td>0.880880</td>\n",
       "      <td>NaN</td>\n",
       "      <td>NaN</td>\n",
       "    </tr>\n",
       "    <tr>\n",
       "      <th>2</th>\n",
       "      <td>2008</td>\n",
       "      <td>39541</td>\n",
       "      <td>S08E</td>\n",
       "      <td>CK</td>\n",
       "      <td>0.178260</td>\n",
       "      <td>NaN</td>\n",
       "      <td>NaN</td>\n",
       "    </tr>\n",
       "    <tr>\n",
       "      <th>3</th>\n",
       "      <td>2008</td>\n",
       "      <td>39541</td>\n",
       "      <td>S08E</td>\n",
       "      <td>F1</td>\n",
       "      <td>0.129323</td>\n",
       "      <td>NaN</td>\n",
       "      <td>NaN</td>\n",
       "    </tr>\n",
       "    <tr>\n",
       "      <th>4</th>\n",
       "      <td>2008</td>\n",
       "      <td>39541</td>\n",
       "      <td>S08E</td>\n",
       "      <td>F1</td>\n",
       "      <td>0.203667</td>\n",
       "      <td>NaN</td>\n",
       "      <td>NaN</td>\n",
       "    </tr>\n",
       "  </tbody>\n",
       "</table>\n",
       "</div>"
      ],
      "text/plain": [
       "   YEAR   DATE SEASON TRT       CO2  Unnamed: 5  Unnamed: 6\n",
       "0  2008  39541   S08E  CK  0.562162         NaN         NaN\n",
       "1  2008  39541   S08E  CK  0.880880         NaN         NaN\n",
       "2  2008  39541   S08E  CK  0.178260         NaN         NaN\n",
       "3  2008  39541   S08E  F1  0.129323         NaN         NaN\n",
       "4  2008  39541   S08E  F1  0.203667         NaN         NaN"
      ]
     },
     "execution_count": 9,
     "metadata": {},
     "output_type": "execute_result"
    }
   ],
   "source": [
    "fd1.head()"
   ]
  },
  {
   "cell_type": "code",
   "execution_count": 10,
   "id": "e436ed1d",
   "metadata": {},
   "outputs": [
    {
     "name": "stdout",
     "output_type": "stream",
     "text": [
      "2008年SEASON里的早稻的CO2的取值范围是:[-12.865758866157737,169.99218271943278],中值是：2.9233422543980465\n",
      "2008年SEASON里的晚稻的CO2取值范围是:[-5.69201014675483,49.16573804667249],中值是：2.4579636863464183\n",
      "2009年SEASON里的早稻的CO2的取值范围是:[-10.12157071439997,73.1233],中值是：2.7030547799023\n",
      "2009年SEASON里的晚稻的CO2取值范围是:[-1.317767538786361,50.06962839655282],中值是：0.36979291926460767\n",
      "2010年SEASON里的早稻的CO2的取值范围是:[-3.5149502609348198,87.61291414988081],中值是：0.7066574562358655\n",
      "2010年SEASON里的晚稻的CO2取值范围是:[-34.79117076727127,74.99143841245296],中值是：0.4914603160423918\n",
      "2011年SEASON里的早稻的CO2的取值范围是:[-4.668498780239632,75.27970124927216],中值是：1.2971725522641053\n",
      "2011年SEASON里的晚稻的CO2取值范围是:[-1.4290219369163408,22.29585033666873],中值是：0.8445641613541048\n"
     ]
    }
   ],
   "source": [
    "seasonS08E=[]\n",
    "seasonS08L=[]\n",
    "seasonS09E=[]\n",
    "seasonS09L=[]\n",
    "seasonS10E=[]\n",
    "seasonS10L=[]\n",
    "seasonS11E=[]\n",
    "seasonS11L=[]\n",
    "\n",
    "for i in range(5202):\n",
    "    if fd1.iloc[i,2] == 'S08E':\n",
    "        seasonS08E.append(fd1.iloc[i,4])  \n",
    "    elif fd1.iloc[i,2]=='S08L':\n",
    "        seasonS08L.append(fd1.iloc[i,4])\n",
    "    elif fd1.iloc[i,2]=='S09E':\n",
    "        seasonS09E.append(fd1.iloc[i,4])\n",
    "    elif fd1.iloc[i,2]=='S09L':\n",
    "        seasonS09L.append(fd1.iloc[i,4])\n",
    "    elif fd1.iloc[i,2]=='S10E':\n",
    "        seasonS10E.append(fd1.iloc[i,4]) \n",
    "    elif fd1.iloc[i,2]=='S10L':\n",
    "        seasonS10L.append(fd1.iloc[i,4])\n",
    "    elif fd1.iloc[i,2]=='S11E':\n",
    "        seasonS11E.append(fd1.iloc[i,4])\n",
    "    elif fd1.iloc[i,2]=='S11L':\n",
    "        seasonS11L.append(fd1.iloc[i,4])\n",
    "seasonS08E.sort()\n",
    "seasonS08L.sort()\n",
    "seasonS09E.sort()\n",
    "seasonS09L.sort()\n",
    "seasonS10E.sort()\n",
    "seasonS10L.sort()\n",
    "seasonS11E.sort()\n",
    "seasonS11L.sort()\n",
    "if len(seasonS08E)%2==0:\n",
    "    midseasonS08E=int(len(seasonS08E)/2)\n",
    "    midseasonS08E_=int(len(seasonS08E)/2)-1\n",
    "    seasonS08Emid=(seasonS08E[midseasonS08E]+seasonS08E[midseasonS08E_])/2\n",
    "else:\n",
    "        seasonS08Emid=seasonS08E[int(len(seasonS08E)/2)]\n",
    "print(\"2008年SEASON里的早稻的CO2的取值范围是:[{},{}],中值是：{}\".format(seasonS08E[0],seasonS08E[-1],seasonS08Emid))\n",
    "\n",
    "if len(seasonS08L)%2==0:\n",
    "    midseasonS08L=int(len(seasonS08L)/2)\n",
    "    midseasonS08L_=int(len(seasonS08L)/2)-1\n",
    "    seasonS08Lmid=(seasonS08L[midseasonS08L]+seasonS08L[midseasonS08L_])/2\n",
    "else:\n",
    "        seasonS08Lmid=seasonS08L[int(len(seasonS08L)/2)]\n",
    "print(\"2008年SEASON里的晚稻的CO2取值范围是:[{},{}],中值是：{}\".format(seasonS08L[0],seasonS08L[-1],seasonS08Lmid))\n",
    "\n",
    "if len(seasonS09E)%2==0:\n",
    "    midseasonS09E=int(len(seasonS09E)/2)\n",
    "    midseasonS09E_=int(len(seasonS09E)/2)-1\n",
    "    seasonS09Emid=(seasonS09E[midseasonS09E]+seasonS09E[midseasonS09E_])/2\n",
    "else:\n",
    "        seasonS09Emid=seasonS09E[int(len(seasonS09E)/2)]\n",
    "print(\"2009年SEASON里的早稻的CO2的取值范围是:[{},{}],中值是：{}\".format(seasonS09E[0],seasonS09E[-1],seasonS09Emid))\n",
    "\n",
    "if len(seasonS09L)%2==0:\n",
    "    midseasonS09L=int(len(seasonS09L)/2)\n",
    "    midseasonS09L_=int(len(seasonS09L)/2)-1\n",
    "    seasonS09Lmid=(seasonS09L[midseasonS09L]+seasonS09L[midseasonS09L_])/2\n",
    "else:\n",
    "        seasonS09Lmid=seasonS09L[int(len(seasonS09L)/2)]\n",
    "print(\"2009年SEASON里的晚稻的CO2取值范围是:[{},{}],中值是：{}\".format(seasonS09L[0],seasonS09L[-1],seasonS09Lmid))\n",
    "\n",
    "if len(seasonS10E)%2==0:\n",
    "    midseasonS10E=int(len(seasonS10E)/2)\n",
    "    midseasonS10E_=int(len(seasonS10E)/2)-1\n",
    "    seasonS10Emid=(seasonS10E[midseasonS10E]+seasonS10E[midseasonS10E_])/2\n",
    "else:\n",
    "        seasonS10Emid=seasonS10E[int(len(seasonS10E)/2)]\n",
    "print(\"2010年SEASON里的早稻的CO2的取值范围是:[{},{}],中值是：{}\".format(seasonS10E[0],seasonS10E[-1],seasonS10Emid))\n",
    "\n",
    "if len(seasonS10L)%2==0:\n",
    "    midseasonS10L=int(len(seasonS10L)/2)\n",
    "    midseasonS10L_=int(len(seasonS10L)/2)-1\n",
    "    seasonS10Lmid=(seasonS10L[midseasonS10L]+seasonS10L[midseasonS10L_])/2\n",
    "else:\n",
    "        seasonS10Lmid=seasonS10L[int(len(seasonS10L)/2)]\n",
    "print(\"2010年SEASON里的晚稻的CO2取值范围是:[{},{}],中值是：{}\".format(seasonS10L[0],seasonS10L[-1],seasonS10Lmid))\n",
    "\n",
    "\n",
    "if len(seasonS11E)%2==0:\n",
    "    midseasonS11E=int(len(seasonS11E)/2)\n",
    "    midseasonS11E_=int(len(seasonS11E)/2)-1\n",
    "    seasonS11Emid=(seasonS11E[midseasonS11E]+seasonS11E[midseasonS11E_])/2\n",
    "else:\n",
    "        seasonS11Emid=seasonS11E[int(len(seasonS11E)/2)]\n",
    "print(\"2011年SEASON里的早稻的CO2的取值范围是:[{},{}],中值是：{}\".format(seasonS11E[0],seasonS11E[-1],seasonS11Emid))\n",
    "\n",
    "if len(seasonS11L)%2==0:\n",
    "    midseasonS11L=int(len(seasonS11L)/2)\n",
    "    midseasonS11L_=int(len(seasonS11L)/2)-1\n",
    "    seasonS11Lmid=(seasonS11L[midseasonS11L]+seasonS11L[midseasonS11L_])/2\n",
    "else:\n",
    "        seasonS11Lmid=seasonS11L[int(len(seasonS11L)/2)]\n",
    "print(\"2011年SEASON里的晚稻的CO2取值范围是:[{},{}],中值是：{}\".format(seasonS11L[0],seasonS11L[-1],seasonS11Lmid))\n",
    "\n",
    "\n",
    "\n",
    "\n",
    "\n",
    "\n",
    "\n"
   ]
  },
  {
   "cell_type": "markdown",
   "id": "24ef5425",
   "metadata": {},
   "source": [
    "各季节(SEASON)）CO2的箱线图"
   ]
  },
  {
   "cell_type": "markdown",
   "id": "bcdd43f8",
   "metadata": {},
   "source": [
    "2008年早稻的箱线图\n",
    "SEASON里的早稻的CO2的取值范围是:[-12.865758866157737,169.99218271943278],中值是：2.9233422543980465\n"
   ]
  },
  {
   "cell_type": "code",
   "execution_count": 11,
   "id": "d4a701c0",
   "metadata": {},
   "outputs": [
    {
     "data": {
      "image/png": "[encoded data removed]",
      "text/plain": [
       "<Figure size 432x288 with 1 Axes>"
      ]
     },
     "metadata": {},
     "output_type": "display_data"
    }
   ],
   "source": [
    "# 设置图形的显示风格\n",
    "plt.style.use('ggplot')\n",
    "# 设置中文和负号正常显示\n",
    "plt.rcParams['font.sans-serif'] = 'Microsoft YaHei'\n",
    "plt.rcParams['axes.unicode_minus'] = False \n",
    "# 绘图：早稻排放的CO2量箱线图\n",
    "plt.boxplot(x = seasonS08E, # 指定绘图数据\n",
    " \n",
    "            patch_artist=True, # 要求用自定义颜色填充盒形图，默认白色填充\n",
    " \n",
    "            showmeans=True, # 以点的形式显示均值\n",
    " \n",
    "            boxprops = {'color':'black','facecolor':'#9999ff'}, # 设置箱体属性，填充色和边框色\n",
    " \n",
    "            flierprops = {'marker':'o','markerfacecolor':'red','color':'black'}, # 设置异常值属性，点的形状、填充色和边框色\n",
    " \n",
    "            meanprops = {'marker':'D','markerfacecolor':'indianred'}, # 设置均值点的属性，点的形状、填充色\n",
    " \n",
    "            medianprops = {'linestyle':'--','color':'orange'}) # 设置中位数线的属性，线的类型和颜色\n",
    " \n",
    "# 设置y轴的范围\n",
    " \n",
    "plt.ylim(-13,170)\n",
    " \n",
    " \n",
    " \n",
    "# 去除箱线图的上边框与右边框的刻度标签\n",
    " \n",
    "plt.tick_params(top='off', right='off')\n",
    " \n",
    "# 显示图形\n",
    " \n",
    "plt.show()"
   ]
  },
  {
   "cell_type": "markdown",
   "id": "66e300b6",
   "metadata": {},
   "source": [
    "2008年晚稻CO2排放量的箱线图\n",
    "SEASON里的晚稻的CO2取值范围是:[-5.69201014675483,49.16573804667249],中值是：2.4579636863464183"
   ]
  },
  {
   "cell_type": "code",
   "execution_count": 12,
   "id": "5e98e11f",
   "metadata": {},
   "outputs": [
    {
     "data": {
      "image/png": "[encoded data removed]",
      "text/plain": [
       "<Figure size 432x288 with 1 Axes>"
      ]
     },
     "metadata": {},
     "output_type": "display_data"
    }
   ],
   "source": [
    "# 设置图形的显示风格\n",
    "plt.style.use('ggplot')\n",
    "# 设置中文和负号正常显示\n",
    "plt.rcParams['font.sans-serif'] = 'Microsoft YaHei'\n",
    "plt.rcParams['axes.unicode_minus'] = False \n",
    "# 绘图：2008年晚稻年排放的CO2量箱线图\n",
    "plt.boxplot(x = seasonS08L, # 指定绘图数据\n",
    " \n",
    "            patch_artist=True, # 要求用自定义颜色填充盒形图，默认白色填充\n",
    " \n",
    "            showmeans=True, # 以点的形式显示均值\n",
    " \n",
    "            boxprops = {'color':'black','facecolor':'#9999ff'}, # 设置箱体属性，填充色和边框色\n",
    " \n",
    "            flierprops = {'marker':'o','markerfacecolor':'red','color':'black'}, # 设置异常值属性，点的形状、填充色和边框色\n",
    " \n",
    "            meanprops = {'marker':'D','markerfacecolor':'indianred'}, # 设置均值点的属性，点的形状、填充色\n",
    " \n",
    "            medianprops = {'linestyle':'--','color':'orange'}) # 设置中位数线的属性，线的类型和颜色\n",
    " \n",
    "# 设置y轴的范围\n",
    " \n",
    "plt.ylim(-6,50)\n",
    " \n",
    " \n",
    " \n",
    "# 去除箱线图的上边框与右边框的刻度标签\n",
    " \n",
    "plt.tick_params(top='off', right='off')\n",
    " \n",
    "# 显示图形\n",
    " \n",
    "plt.show()"
   ]
  },
  {
   "cell_type": "markdown",
   "id": "2bc3c239",
   "metadata": {},
   "source": [
    "2009年SEASON里的早稻的CO2的取值范围是:[-10.12157071439997,73.1233],中值是：2.7030547799023\n",
    "2009年SEASON里的晚稻的CO2取值范围是:[-1.317767538786361,50.06962839655282],中值是：0.36979291926460767\n"
   ]
  },
  {
   "cell_type": "code",
   "execution_count": 11,
   "id": "12bc66ec",
   "metadata": {},
   "outputs": [
    {
     "data": {
      "image/png": "[encoded data removed]",
      "text/plain": [
       "<Figure size 432x288 with 1 Axes>"
      ]
     },
     "metadata": {},
     "output_type": "display_data"
    }
   ],
   "source": [
    "# 设置图形的显示风格\n",
    "plt.style.use('ggplot')\n",
    "# 设置中文和负号正常显示\n",
    "plt.rcParams['font.sans-serif'] = 'Microsoft YaHei'\n",
    "plt.rcParams['axes.unicode_minus'] = False \n",
    "# 绘图：2009年早稻年排放的CO2量箱线图\n",
    "plt.boxplot(x = seasonS09E, # 指定绘图数据\n",
    " \n",
    "            patch_artist=True, # 要求用自定义颜色填充盒形图，默认白色填充\n",
    " \n",
    "            showmeans=True, # 以点的形式显示均值\n",
    " \n",
    "            boxprops = {'color':'black','facecolor':'#9999ff'}, # 设置箱体属性，填充色和边框色\n",
    " \n",
    "            flierprops = {'marker':'o','markerfacecolor':'red','color':'black'}, # 设置异常值属性，点的形状、填充色和边框色\n",
    " \n",
    "            meanprops = {'marker':'D','markerfacecolor':'indianred'}, # 设置均值点的属性，点的形状、填充色\n",
    " \n",
    "            medianprops = {'linestyle':'--','color':'orange'}) # 设置中位数线的属性，线的类型和颜色\n",
    " \n",
    "# 设置y轴的范围\n",
    " \n",
    "plt.ylim(-11,75)\n",
    " \n",
    " \n",
    " \n",
    "# 去除箱线图的上边框与右边框的刻度标签\n",
    " \n",
    "plt.tick_params(top='off', right='off')\n",
    " \n",
    "# 显示图形\n",
    " \n",
    "plt.show()"
   ]
  },
  {
   "cell_type": "code",
   "execution_count": 12,
   "id": "63122fa0",
   "metadata": {},
   "outputs": [
    {
     "data": {
      "image/png": "[encoded data removed]",
      "text/plain": [
       "<Figure size 432x288 with 1 Axes>"
      ]
     },
     "metadata": {},
     "output_type": "display_data"
    }
   ],
   "source": [
    "# 设置图形的显示风格\n",
    "plt.style.use('ggplot')\n",
    "# 设置中文和负号正常显示\n",
    "plt.rcParams['font.sans-serif'] = 'Microsoft YaHei'\n",
    "plt.rcParams['axes.unicode_minus'] = False \n",
    "# 绘图：2009年晚稻年排放的CO2量箱线图\n",
    "plt.boxplot(x = seasonS09E, # 指定绘图数据\n",
    " \n",
    "            patch_artist=True, # 要求用自定义颜色填充盒形图，默认白色填充\n",
    " \n",
    "            showmeans=True, # 以点的形式显示均值\n",
    " \n",
    "            boxprops = {'color':'black','facecolor':'#9999ff'}, # 设置箱体属性，填充色和边框色\n",
    " \n",
    "            flierprops = {'marker':'o','markerfacecolor':'red','color':'black'}, # 设置异常值属性，点的形状、填充色和边框色\n",
    " \n",
    "            meanprops = {'marker':'D','markerfacecolor':'indianred'}, # 设置均值点的属性，点的形状、填充色\n",
    " \n",
    "            medianprops = {'linestyle':'--','color':'orange'}) # 设置中位数线的属性，线的类型和颜色\n",
    " \n",
    "# 设置y轴的范围\n",
    " \n",
    "plt.ylim(-2,51)\n",
    " \n",
    " \n",
    " \n",
    "# 去除箱线图的上边框与右边框的刻度标签\n",
    " \n",
    "plt.tick_params(top='off', right='off')\n",
    " \n",
    "# 显示图形\n",
    " \n",
    "plt.show()"
   ]
  },
  {
   "cell_type": "markdown",
   "id": "5ec23d5c",
   "metadata": {},
   "source": [
    "2010年SEASON里的早稻的CO2的取值范围是:[-3.5149502609348198,87.61291414988081],中值是：0.7066574562358655\n",
    "2010年SEASON里的晚稻的CO2取值范围是:[-34.79117076727127,74.99143841245296],中值是：0.4914603160423918\n"
   ]
  },
  {
   "cell_type": "code",
   "execution_count": 13,
   "id": "e423507f",
   "metadata": {},
   "outputs": [
    {
     "data": {
      "image/png": "[encoded data removed]",
      "text/plain": [
       "<Figure size 432x288 with 1 Axes>"
      ]
     },
     "metadata": {},
     "output_type": "display_data"
    }
   ],
   "source": [
    "# 设置图形的显示风格\n",
    "plt.style.use('ggplot')\n",
    "# 设置中文和负号正常显示\n",
    "plt.rcParams['font.sans-serif'] = 'Microsoft YaHei'\n",
    "plt.rcParams['axes.unicode_minus'] = False \n",
    "# 绘图：2010年早稻年排放的CO2量箱线图\n",
    "plt.boxplot(x = seasonS10E, # 指定绘图数据\n",
    " \n",
    "            patch_artist=True, # 要求用自定义颜色填充盒形图，默认白色填充\n",
    " \n",
    "            showmeans=True, # 以点的形式显示均值\n",
    " \n",
    "            boxprops = {'color':'black','facecolor':'#9999ff'}, # 设置箱体属性，填充色和边框色\n",
    " \n",
    "            flierprops = {'marker':'o','markerfacecolor':'red','color':'black'}, # 设置异常值属性，点的形状、填充色和边框色\n",
    " \n",
    "            meanprops = {'marker':'D','markerfacecolor':'indianred'}, # 设置均值点的属性，点的形状、填充色\n",
    " \n",
    "            medianprops = {'linestyle':'--','color':'orange'}) # 设置中位数线的属性，线的类型和颜色\n",
    " \n",
    "# 设置y轴的范围\n",
    " \n",
    "plt.ylim(-4,90)\n",
    " \n",
    " \n",
    " \n",
    "# 去除箱线图的上边框与右边框的刻度标签\n",
    " \n",
    "plt.tick_params(top='off', right='off')\n",
    " \n",
    "# 显示图形\n",
    " \n",
    "plt.show()"
   ]
  },
  {
   "cell_type": "code",
   "execution_count": 14,
   "id": "3b8cd9a2",
   "metadata": {},
   "outputs": [
    {
     "data": {
      "image/png": "[encoded data removed]",
      "text/plain": [
       "<Figure size 432x288 with 1 Axes>"
      ]
     },
     "metadata": {},
     "output_type": "display_data"
    }
   ],
   "source": [
    "# 设置图形的显示风格\n",
    "plt.style.use('ggplot')\n",
    "# 设置中文和负号正常显示\n",
    "plt.rcParams['font.sans-serif'] = 'Microsoft YaHei'\n",
    "plt.rcParams['axes.unicode_minus'] = False \n",
    "# 绘图：2010年晚稻年排放的CO2量箱线图\n",
    "plt.boxplot(x = seasonS10L, # 指定绘图数据\n",
    " \n",
    "            patch_artist=True, # 要求用自定义颜色填充盒形图，默认白色填充\n",
    " \n",
    "            showmeans=True, # 以点的形式显示均值\n",
    " \n",
    "            boxprops = {'color':'black','facecolor':'#9999ff'}, # 设置箱体属性，填充色和边框色\n",
    " \n",
    "            flierprops = {'marker':'o','markerfacecolor':'red','color':'black'}, # 设置异常值属性，点的形状、填充色和边框色\n",
    " \n",
    "            meanprops = {'marker':'D','markerfacecolor':'indianred'}, # 设置均值点的属性，点的形状、填充色\n",
    " \n",
    "            medianprops = {'linestyle':'--','color':'orange'}) # 设置中位数线的属性，线的类型和颜色\n",
    " \n",
    "# 设置y轴的范围\n",
    " \n",
    "plt.ylim(-40,80)\n",
    " \n",
    " \n",
    " \n",
    "# 去除箱线图的上边框与右边框的刻度标签\n",
    " \n",
    "plt.tick_params(top='off', right='off')\n",
    " \n",
    "# 显示图形\n",
    " \n",
    "plt.show()"
   ]
  },
  {
   "cell_type": "markdown",
   "id": "37ed2fb4",
   "metadata": {},
   "source": [
    "2011年SEASON里的早稻的CO2的取值范围是:[-4.668498780239632,75.27970124927216],中值是：1.2971725522641053\n",
    "2011年SEASON里的晚稻的CO2取值范围是:[-1.4290219369163408,22.29585033666873],中值是：0.8445641613541048"
   ]
  },
  {
   "cell_type": "code",
   "execution_count": 15,
   "id": "bcc52afe",
   "metadata": {},
   "outputs": [
    {
     "data": {
      "image/png": "[encoded data removed]",
      "text/plain": [
       "<Figure size 432x288 with 1 Axes>"
      ]
     },
     "metadata": {},
     "output_type": "display_data"
    }
   ],
   "source": [
    "# 设置图形的显示风格\n",
    "plt.style.use('ggplot')\n",
    "# 设置中文和负号正常显示\n",
    "plt.rcParams['font.sans-serif'] = 'Microsoft YaHei'\n",
    "plt.rcParams['axes.unicode_minus'] = False \n",
    "# 绘图：2011年早稻年排放的CO2量箱线图\n",
    "plt.boxplot(x = seasonS11E, # 指定绘图数据\n",
    " \n",
    "            patch_artist=True, # 要求用自定义颜色填充盒形图，默认白色填充\n",
    " \n",
    "            showmeans=True, # 以点的形式显示均值\n",
    " \n",
    "            boxprops = {'color':'black','facecolor':'#9999ff'}, # 设置箱体属性，填充色和边框色\n",
    " \n",
    "            flierprops = {'marker':'o','markerfacecolor':'red','color':'black'}, # 设置异常值属性，点的形状、填充色和边框色\n",
    " \n",
    "            meanprops = {'marker':'D','markerfacecolor':'indianred'}, # 设置均值点的属性，点的形状、填充色\n",
    " \n",
    "            medianprops = {'linestyle':'--','color':'orange'}) # 设置中位数线的属性，线的类型和颜色\n",
    " \n",
    "# 设置y轴的范围\n",
    " \n",
    "plt.ylim(-5,76)\n",
    " \n",
    " \n",
    " \n",
    "# 去除箱线图的上边框与右边框的刻度标签\n",
    " \n",
    "plt.tick_params(top='off', right='off')\n",
    " \n",
    "# 显示图形\n",
    " \n",
    "plt.show()"
   ]
  },
  {
   "cell_type": "code",
   "execution_count": 16,
   "id": "b516a55e",
   "metadata": {},
   "outputs": [
    {
     "data": {
      "image/png": "[encoded data removed]",
      "text/plain": [
       "<Figure size 432x288 with 1 Axes>"
      ]
     },
     "metadata": {},
     "output_type": "display_data"
    }
   ],
   "source": [
    "# 设置图形的显示风格\n",
    "plt.style.use('ggplot')\n",
    "# 设置中文和负号正常显示\n",
    "plt.rcParams['font.sans-serif'] = 'Microsoft YaHei'\n",
    "plt.rcParams['axes.unicode_minus'] = False \n",
    "# 绘图：2011年晚稻年排放的CO2量箱线图\n",
    "plt.boxplot(x = seasonS11L, # 指定绘图数据\n",
    " \n",
    "            patch_artist=True, # 要求用自定义颜色填充盒形图，默认白色填充\n",
    " \n",
    "            showmeans=True, # 以点的形式显示均值\n",
    " \n",
    "            boxprops = {'color':'black','facecolor':'#9999ff'}, # 设置箱体属性，填充色和边框色\n",
    " \n",
    "            flierprops = {'marker':'o','markerfacecolor':'red','color':'black'}, # 设置异常值属性，点的形状、填充色和边框色\n",
    " \n",
    "            meanprops = {'marker':'D','markerfacecolor':'indianred'}, # 设置均值点的属性，点的形状、填充色\n",
    " \n",
    "            medianprops = {'linestyle':'--','color':'orange'}) # 设置中位数线的属性，线的类型和颜色\n",
    " \n",
    "# 设置y轴的范围\n",
    " \n",
    "plt.ylim(-2,23)\n",
    " \n",
    " \n",
    " \n",
    "# 去除箱线图的上边框与右边框的刻度标签\n",
    " \n",
    "plt.tick_params(top='off', right='off')\n",
    " \n",
    "# 显示图形\n",
    " \n",
    "plt.show()"
   ]
  },
  {
   "cell_type": "markdown",
   "id": "b1164ecd",
   "metadata": {},
   "source": [
    "各处理（TRT）CO2排放通量中值和范围"
   ]
  },
  {
   "cell_type": "code",
   "execution_count": 17,
   "id": "da703748",
   "metadata": {},
   "outputs": [
    {
     "name": "stdout",
     "output_type": "stream",
     "text": [
      "常规氮肥处理(CK)排放的CO2的取值范围是:[-12.865758866157737,59.99115468212083],中值是：1.2795811181322625\n",
      "低用量生物质量(F1)排放的的CO2的取值范围是:[-5.022535446734919,44.744740999254994],中值是：0.9255631878622129\n",
      "中等用量生物质量(F2)排放的的CO2的取值范围是:[-10.12157071439997,49.16573804667249],中值是：0.8368069228601511\n",
      "高用量生物质量(F3)排放的的CO2的取值范围是:[-10.987674265345087,63.95766880161854],中值是：0.6356769002989981\n",
      "稻草直接还原处理（F4）的CO2的取值范围是:[-34.79117076727127,159.7013],中值是：3.227775227539512\n",
      "稻草+腐熟剂还田处理排放的CO2的取值范围是:[-7.820913860100523,169.99218271943278],中值是：1.961861712102363\n"
     ]
    }
   ],
   "source": [
    "TRTCK=[]\n",
    "TRTF1=[]\n",
    "TRTF2=[]\n",
    "TRTF3=[]\n",
    "TRTF4=[]\n",
    "TRTF6=[]\n",
    "for i in range(5202):\n",
    "    if fd1.iloc[i,3] == 'CK':\n",
    "        TRTCK.append(fd1.iloc[i,4])  \n",
    "    elif fd1.iloc[i,3]=='F1':\n",
    "        TRTF1.append(fd1.iloc[i,4])\n",
    "    elif fd1.iloc[i,3]=='F2':\n",
    "        TRTF2.append(fd1.iloc[i,4])\n",
    "    elif fd1.iloc[i,3]=='F3':\n",
    "        TRTF3.append(fd1.iloc[i,4])\n",
    "    elif fd1.iloc[i,3]=='F4':\n",
    "        TRTF4.append(fd1.iloc[i,4])\n",
    "    elif fd1.iloc[i,3]=='F6':\n",
    "        TRTF6.append(fd1.iloc[i,4])\n",
    "TRTCK.sort()\n",
    "TRTF1.sort()\n",
    "TRTF2.sort()\n",
    "TRTF3.sort()\n",
    "TRTF4.sort()\n",
    "TRTF6.sort()\n",
    "#print(year2008,len(year2008))\n",
    "if len(TRTCK)%2==0:\n",
    "    midTRTCK=int(len(TRTCK)/2)\n",
    "    midTRTCK_=int(len(TRTCK)/2)-1\n",
    "    TRTCKmid=(TRTCK[midTRTCK]+TRTCK[midTRTCK_])/2\n",
    "else:\n",
    "        TRTCKmid=TRTCK[int(len(TRTCK)/2)]\n",
    "print(\"常规氮肥处理(CK)排放的CO2的取值范围是:[{},{}],中值是：{}\".format(TRTCK[0],TRTCK[-1],TRTCKmid))\n",
    "\n",
    "if len(TRTF1)%2==0:\n",
    "    midTRTF1=int(len(TRTF1)/2)\n",
    "    midTRTF1_=int(len(TRTF1)/2)-1\n",
    "    TRTF1mid=(TRTF1[midTRTF1]+TRTF1[midTRTF1_])/2\n",
    "else:\n",
    "        TRTF1mid=TRTF1[int(len(TRTF1)/2)]\n",
    "print(\"低用量生物质量(F1)排放的的CO2的取值范围是:[{},{}],中值是：{}\".format(TRTF1[0],TRTF1[-1],TRTF1mid))\n",
    "\n",
    "if len(TRTF2)%2==0:\n",
    "    midTRTF2=int(len(TRTF2)/2)\n",
    "    midTRTF2_=int(len(TRTF2)/2)-1\n",
    "    TRTF2mid=(TRTF2[midTRTF2]+TRTF2[midTRTF2_])/2\n",
    "else:\n",
    "        TRTF2mid=TRTF2[int(len(TRTF2)/2)]\n",
    "print(\"中等用量生物质量(F2)排放的的CO2的取值范围是:[{},{}],中值是：{}\".format(TRTF2[0],TRTF2[-1],TRTF2mid))\n",
    "\n",
    "if len(TRTF3)%2==0:\n",
    "    midTRTF3=int(len(TRTF3)/2)\n",
    "    midTRTF3=int(len(TRTF3)/2)-1\n",
    "    TRTF3mid=(TRTF3[midTRTF3]+TRTF3[midTRTF3_])/2\n",
    "else:\n",
    "        TRTF3mid=TRTF3[int(len(TRTF3)/2)]\n",
    "print(\"高用量生物质量(F3)排放的的CO2的取值范围是:[{},{}],中值是：{}\".format(TRTF3[0],TRTF3[-1],TRTF3mid))\n",
    "\n",
    "if len(TRTF4)%2==0:\n",
    "    midTRTF4=int(len(TRTF4)/2)\n",
    "    midTRTF4_=int(len(TRTF4)/2)-1\n",
    "    TRTF4mid=(TRTF4[midTRTF4]+TRTF4[midTRTF4_])/2\n",
    "else:\n",
    "        TRTF4mid=TRTF4[int(len(TRTF4)/2)]\n",
    "\n",
    "print(\"稻草直接还原处理（F4）的CO2的取值范围是:[{},{}],中值是：{}\".format(TRTF4[0],TRTF4[-1],TRTF4mid))\n",
    "\n",
    "if len(TRTF6)%2==0:\n",
    "    midTRTF6=int(len(TRTF6)/2)\n",
    "    midTRTF6_=int(len(TRTF6)/2)-1\n",
    "    TRTF6mid=(TRTF6[midTRTF6]+TRTF6[midTRTF6_])/2\n",
    "else:\n",
    "        TRTF6mid=TRTF6[int(len(TRTF6)/2)]\n",
    "print(\"稻草+腐熟剂还田处理排放的CO2的取值范围是:[{},{}],中值是：{}\".format(TRTF6[0],TRTF6[-1],TRTF6mid))\n",
    "\n",
    "\n",
    "\n",
    "\n",
    "\n",
    "\n"
   ]
  },
  {
   "cell_type": "markdown",
   "id": "bf20f683",
   "metadata": {},
   "source": [
    "试验处理箱线图"
   ]
  },
  {
   "cell_type": "markdown",
   "id": "e1429082",
   "metadata": {},
   "source": [
    "常规氮肥处理排放的CO2的箱线图\n",
    "常规氮肥处理(CK)排放的CO2的取值范围是:[-12.865758866157737,59.99115468212083],中值是：1.2795811181322625\n"
   ]
  },
  {
   "cell_type": "code",
   "execution_count": 18,
   "id": "0c4951cd",
   "metadata": {},
   "outputs": [
    {
     "data": {
      "image/png": "[encoded data removed]",
      "text/plain": [
       "<Figure size 432x288 with 1 Axes>"
      ]
     },
     "metadata": {},
     "output_type": "display_data"
    }
   ],
   "source": [
    "# 设置图形的显示风格\n",
    "plt.style.use('ggplot')\n",
    "# 设置中文和负号正常显示\n",
    "plt.rcParams['font.sans-serif'] = 'Microsoft YaHei'\n",
    "plt.rcParams['axes.unicode_minus'] = False \n",
    "# 绘图：晚稻年排放的CO2量箱线图\n",
    "plt.boxplot(x = TRTCK, # 指定绘图数据\n",
    " \n",
    "            patch_artist=True, # 要求用自定义颜色填充盒形图，默认白色填充\n",
    " \n",
    "            showmeans=True, # 以点的形式显示均值\n",
    " \n",
    "            boxprops = {'color':'black','facecolor':'#9999ff'}, # 设置箱体属性，填充色和边框色\n",
    " \n",
    "            flierprops = {'marker':'o','markerfacecolor':'red','color':'black'}, # 设置异常值属性，点的形状、填充色和边框色\n",
    " \n",
    "            meanprops = {'marker':'D','markerfacecolor':'indianred'}, # 设置均值点的属性，点的形状、填充色\n",
    " \n",
    "            medianprops = {'linestyle':'--','color':'orange'}) # 设置中位数线的属性，线的类型和颜色\n",
    " \n",
    "# 设置y轴的范围\n",
    " \n",
    "plt.ylim(-13,60)\n",
    " \n",
    " \n",
    " \n",
    "# 去除箱线图的上边框与右边框的刻度标签\n",
    " \n",
    "plt.tick_params(top='off', right='off')\n",
    " \n",
    "# 显示图形\n",
    " \n",
    "plt.show()"
   ]
  },
  {
   "cell_type": "markdown",
   "id": "8159f390",
   "metadata": {},
   "source": [
    "低用量生物质量排放的CO2的箱线图\n",
    "低用量生物质量(F1)排放的的CO2的取值范围是:[-5.022535446734919,44.744740999254994],中值是：0.9255631878622129\n"
   ]
  },
  {
   "cell_type": "code",
   "execution_count": 19,
   "id": "23807f64",
   "metadata": {},
   "outputs": [
    {
     "data": {
      "image/png": "[encoded data removed]",
      "text/plain": [
       "<Figure size 432x288 with 1 Axes>"
      ]
     },
     "metadata": {},
     "output_type": "display_data"
    }
   ],
   "source": [
    "# 设置图形的显示风格\n",
    "plt.style.use('ggplot')\n",
    "# 设置中文和负号正常显示\n",
    "plt.rcParams['font.sans-serif'] = 'Microsoft YaHei'\n",
    "plt.rcParams['axes.unicode_minus'] = False \n",
    "# 绘图：晚稻年排放的CO2量箱线图\n",
    "plt.boxplot(x = TRTF1, # 指定绘图数据\n",
    " \n",
    "            patch_artist=True, # 要求用自定义颜色填充盒形图，默认白色填充\n",
    " \n",
    "            showmeans=True, # 以点的形式显示均值\n",
    " \n",
    "            boxprops = {'color':'black','facecolor':'#9999ff'}, # 设置箱体属性，填充色和边框色\n",
    " \n",
    "            flierprops = {'marker':'o','markerfacecolor':'red','color':'black'}, # 设置异常值属性，点的形状、填充色和边框色\n",
    " \n",
    "            meanprops = {'marker':'D','markerfacecolor':'indianred'}, # 设置均值点的属性，点的形状、填充色\n",
    " \n",
    "            medianprops = {'linestyle':'--','color':'orange'}) # 设置中位数线的属性，线的类型和颜色\n",
    " \n",
    "# 设置y轴的范围\n",
    " \n",
    "plt.ylim(-6,45)\n",
    " \n",
    " \n",
    " \n",
    "# 去除箱线图的上边框与右边框的刻度标签\n",
    " \n",
    "plt.tick_params(top='off', right='off')\n",
    " \n",
    "# 显示图形\n",
    " \n",
    "plt.show()"
   ]
  },
  {
   "cell_type": "markdown",
   "id": "083d8ae1",
   "metadata": {},
   "source": [
    "中等用量生物质量排放的CO2的箱线图\n",
    "中等用量生物质量(F2)排放的的CO2的取值范围是:[-10.12157071439997,49.16573804667249],中值是：0.8368069228601511\n"
   ]
  },
  {
   "cell_type": "code",
   "execution_count": 20,
   "id": "ca3385f3",
   "metadata": {},
   "outputs": [
    {
     "data": {
      "image/png": "[encoded data removed]",
      "text/plain": [
       "<Figure size 432x288 with 1 Axes>"
      ]
     },
     "metadata": {},
     "output_type": "display_data"
    }
   ],
   "source": [
    "# 设置图形的显示风格\n",
    "plt.style.use('ggplot')\n",
    "# 设置中文和负号正常显示\n",
    "plt.rcParams['font.sans-serif'] = 'Microsoft YaHei'\n",
    "plt.rcParams['axes.unicode_minus'] = False \n",
    "# 绘图：晚稻年排放的CO2量箱线图\n",
    "plt.boxplot(x = TRTF2, # 指定绘图数据\n",
    " \n",
    "            patch_artist=True, # 要求用自定义颜色填充盒形图，默认白色填充\n",
    " \n",
    "            showmeans=True, # 以点的形式显示均值\n",
    " \n",
    "            boxprops = {'color':'black','facecolor':'#9999ff'}, # 设置箱体属性，填充色和边框色\n",
    " \n",
    "            flierprops = {'marker':'o','markerfacecolor':'red','color':'black'}, # 设置异常值属性，点的形状、填充色和边框色\n",
    " \n",
    "            meanprops = {'marker':'D','markerfacecolor':'indianred'}, # 设置均值点的属性，点的形状、填充色\n",
    " \n",
    "            medianprops = {'linestyle':'--','color':'orange'}) # 设置中位数线的属性，线的类型和颜色\n",
    " \n",
    "# 设置y轴的范围\n",
    " \n",
    "plt.ylim(-11,50)\n",
    " \n",
    " \n",
    " \n",
    "# 去除箱线图的上边框与右边框的刻度标签\n",
    " \n",
    "plt.tick_params(top='off', right='off')\n",
    " \n",
    "# 显示图形\n",
    " \n",
    "plt.show()"
   ]
  },
  {
   "cell_type": "markdown",
   "id": "3be2d061",
   "metadata": {},
   "source": [
    "高用量生物质量排放的CO2的箱线图\n",
    "高用量生物质量(F3)排放的的CO2的取值范围是:[-10.987674265345087,63.95766880161854],中值是：0.6356769002989981\n"
   ]
  },
  {
   "cell_type": "code",
   "execution_count": 21,
   "id": "e11cbfd9",
   "metadata": {},
   "outputs": [
    {
     "data": {
      "image/png": "[encoded data removed]",
      "text/plain": [
       "<Figure size 432x288 with 1 Axes>"
      ]
     },
     "metadata": {},
     "output_type": "display_data"
    }
   ],
   "source": [
    "# 设置图形的显示风格\n",
    "plt.style.use('ggplot')\n",
    "# 设置中文和负号正常显示\n",
    "plt.rcParams['font.sans-serif'] = 'Microsoft YaHei'\n",
    "plt.rcParams['axes.unicode_minus'] = False \n",
    "# 绘图：晚稻年排放的CO2量箱线图\n",
    "plt.boxplot(x = TRTF3, # 指定绘图数据\n",
    " \n",
    "            patch_artist=True, # 要求用自定义颜色填充盒形图，默认白色填充\n",
    " \n",
    "            showmeans=True, # 以点的形式显示均值\n",
    " \n",
    "            boxprops = {'color':'black','facecolor':'#9999ff'}, # 设置箱体属性，填充色和边框色\n",
    " \n",
    "            flierprops = {'marker':'o','markerfacecolor':'red','color':'black'}, # 设置异常值属性，点的形状、填充色和边框色\n",
    " \n",
    "            meanprops = {'marker':'D','markerfacecolor':'indianred'}, # 设置均值点的属性，点的形状、填充色\n",
    " \n",
    "            medianprops = {'linestyle':'--','color':'orange'}) # 设置中位数线的属性，线的类型和颜色\n",
    " \n",
    "# 设置y轴的范围\n",
    " \n",
    "plt.ylim(-11,65)\n",
    " \n",
    " \n",
    " \n",
    "# 去除箱线图的上边框与右边框的刻度标签\n",
    " \n",
    "plt.tick_params(top='off', right='off')\n",
    " \n",
    "# 显示图形\n",
    " \n",
    "plt.show()"
   ]
  },
  {
   "cell_type": "markdown",
   "id": "f56f8d6b",
   "metadata": {},
   "source": [
    "稻草直接还原处理排放的CO2的箱线图\n",
    "稻草直接还原处理（F4）的CO2的取值范围是:[-34.79117076727127,159.7013],中值是：3.227775227539512\n"
   ]
  },
  {
   "cell_type": "code",
   "execution_count": 22,
   "id": "e3f0c65e",
   "metadata": {},
   "outputs": [
    {
     "data": {
      "image/png": "[encoded data removed]",
      "text/plain": [
       "<Figure size 432x288 with 1 Axes>"
      ]
     },
     "metadata": {},
     "output_type": "display_data"
    }
   ],
   "source": [
    "# 设置图形的显示风格\n",
    "plt.style.use('ggplot')\n",
    "# 设置中文和负号正常显示\n",
    "plt.rcParams['font.sans-serif'] = 'Microsoft YaHei'\n",
    "plt.rcParams['axes.unicode_minus'] = False \n",
    "# 绘图：晚稻年排放的CO2量箱线图\n",
    "plt.boxplot(x = TRTF4, # 指定绘图数据\n",
    " \n",
    "            patch_artist=True, # 要求用自定义颜色填充盒形图，默认白色填充\n",
    " \n",
    "            showmeans=True, # 以点的形式显示均值\n",
    " \n",
    "            boxprops = {'color':'black','facecolor':'#9999ff'}, # 设置箱体属性，填充色和边框色\n",
    " \n",
    "            flierprops = {'marker':'o','markerfacecolor':'red','color':'black'}, # 设置异常值属性，点的形状、填充色和边框色\n",
    " \n",
    "            meanprops = {'marker':'D','markerfacecolor':'indianred'}, # 设置均值点的属性，点的形状、填充色\n",
    " \n",
    "            medianprops = {'linestyle':'--','color':'orange'}) # 设置中位数线的属性，线的类型和颜色\n",
    " \n",
    "# 设置y轴的范围\n",
    " \n",
    "plt.ylim(-35,160)\n",
    " \n",
    " \n",
    " \n",
    "# 去除箱线图的上边框与右边框的刻度标签\n",
    " \n",
    "plt.tick_params(top='off', right='off')\n",
    " \n",
    "# 显示图形\n",
    " \n",
    "plt.show()"
   ]
  },
  {
   "cell_type": "markdown",
   "id": "da0b1649",
   "metadata": {},
   "source": [
    "稻草+腐熟剂排放的CO2的箱线图\n",
    "稻草+腐熟剂还田处理排放的CO2的取值范围是:[-7.820913860100523,169.99218271943278],中值是：1.961861712102363"
   ]
  },
  {
   "cell_type": "code",
   "execution_count": 23,
   "id": "2364c9a9",
   "metadata": {},
   "outputs": [
    {
     "data": {
      "image/png": "[encoded data removed]",
      "text/plain": [
       "<Figure size 432x288 with 1 Axes>"
      ]
     },
     "metadata": {},
     "output_type": "display_data"
    }
   ],
   "source": [
    "# 设置图形的显示风格\n",
    "plt.style.use('ggplot')\n",
    "# 设置中文和负号正常显示\n",
    "plt.rcParams['font.sans-serif'] = 'Microsoft YaHei'\n",
    "plt.rcParams['axes.unicode_minus'] = False \n",
    "# 绘图：晚稻年排放的CO2量箱线图\n",
    "plt.boxplot(x = TRTF6, # 指定绘图数据\n",
    " \n",
    "            patch_artist=True, # 要求用自定义颜色填充盒形图，默认白色填充\n",
    " \n",
    "            showmeans=True, # 以点的形式显示均值\n",
    " \n",
    "            boxprops = {'color':'black','facecolor':'#9999ff'}, # 设置箱体属性，填充色和边框色\n",
    " \n",
    "            flierprops = {'marker':'o','markerfacecolor':'red','color':'black'}, # 设置异常值属性，点的形状、填充色和边框色\n",
    " \n",
    "            meanprops = {'marker':'D','markerfacecolor':'indianred'}, # 设置均值点的属性，点的形状、填充色\n",
    " \n",
    "            medianprops = {'linestyle':'--','color':'orange'}) # 设置中位数线的属性，线的类型和颜色\n",
    " \n",
    "# 设置y轴的范围\n",
    " \n",
    "plt.ylim(-8,170)\n",
    " \n",
    " \n",
    " \n",
    "# 去除箱线图的上边框与右边框的刻度标签\n",
    " \n",
    "plt.tick_params(top='off', right='off')\n",
    " \n",
    "# 显示图形\n",
    " \n",
    "plt.show()"
   ]
  }
 ],
 "metadata": {
  "kernelspec": {
   "display_name": "Python 3 (ipykernel)",
   "language": "python",
   "name": "python3"
  },
  "language_info": {
   "codemirror_mode": {
    "name": "ipython",
    "version": 3
   },
   "file_extension": ".py",
   "mimetype": "text/x-python",
   "name": "python",
   "nbconvert_exporter": "python",
   "pygments_lexer": "ipython3",
   "version": "3.9.7"
  }
 },
 "nbformat": 4,
 "nbformat_minor": 5
}
